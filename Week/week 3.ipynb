{
 "cells": [
  {
   "cell_type": "markdown",
   "metadata": {},
   "source": [
    "## Week 3\n",
    "---"
   ]
  },
  {
   "cell_type": "code",
   "execution_count": 3,
   "metadata": {},
   "outputs": [
    {
     "ename": "ModuleNotFoundError",
     "evalue": "No module named 'numpy'",
     "output_type": "error",
     "traceback": [
      "\u001b[1;31m---------------------------------------------------------------------------\u001b[0m",
      "\u001b[1;31mModuleNotFoundError\u001b[0m                       Traceback (most recent call last)",
      "\u001b[1;32mc:\\Users\\Ddong Da rella\\Desktop\\코딩\\Boost_Python\\Week\\week 3.ipynb Cell 2'\u001b[0m in \u001b[0;36m<module>\u001b[1;34m\u001b[0m\n\u001b[0;32m      <a href='vscode-notebook-cell:/c%3A/Users/Ddong%20Da%20rella/Desktop/%EC%BD%94%EB%94%A9/Boost_Python/Week/week%203.ipynb#ch0000001?line=0'>1</a>\u001b[0m \u001b[39m# Q1. 본격적으로 Numpy와 친해지기 위해서 다양한 연산을 연습해볼 예정입니다. \u001b[39;00m\n\u001b[0;32m      <a href='vscode-notebook-cell:/c%3A/Users/Ddong%20Da%20rella/Desktop/%EC%BD%94%EB%94%A9/Boost_Python/Week/week%203.ipynb#ch0000001?line=1'>2</a>\u001b[0m \u001b[39m# 무작위의 데이터를 가 진 5x3의 행렬을 가지는 numpy array와 3x2 행렬을 가지는 numpy array를 만든 후 행열곱 연산을 진행해보세요. \u001b[39;00m\n\u001b[1;32m----> <a href='vscode-notebook-cell:/c%3A/Users/Ddong%20Da%20rella/Desktop/%EC%BD%94%EB%94%A9/Boost_Python/Week/week%203.ipynb#ch0000001?line=3'>4</a>\u001b[0m \u001b[39mimport\u001b[39;00m \u001b[39mnumpy\u001b[39;00m \u001b[39mas\u001b[39;00m \u001b[39mnp\u001b[39;00m\n\u001b[0;32m      <a href='vscode-notebook-cell:/c%3A/Users/Ddong%20Da%20rella/Desktop/%EC%BD%94%EB%94%A9/Boost_Python/Week/week%203.ipynb#ch0000001?line=5'>6</a>\u001b[0m arr1 \u001b[39m=\u001b[39m np\u001b[39m.\u001b[39mrandom\u001b[39m.\u001b[39mrand(\u001b[39m5\u001b[39m,\u001b[39m3\u001b[39m)\n\u001b[0;32m      <a href='vscode-notebook-cell:/c%3A/Users/Ddong%20Da%20rella/Desktop/%EC%BD%94%EB%94%A9/Boost_Python/Week/week%203.ipynb#ch0000001?line=6'>7</a>\u001b[0m arr2 \u001b[39m=\u001b[39m np\u001b[39m.\u001b[39mrandom\u001b[39m.\u001b[39mrand(\u001b[39m3\u001b[39m,\u001b[39m2\u001b[39m)\n",
      "\u001b[1;31mModuleNotFoundError\u001b[0m: No module named 'numpy'"
     ]
    }
   ],
   "source": [
    "# Q1. 본격적으로 Numpy와 친해지기 위해서 다양한 연산을 연습해볼 예정입니다. \n",
    "# 무작위의 데이터를 가 진 5x3의 행렬을 가지는 numpy array와 3x2 행렬을 가지는 numpy array를 만든 후 행열곱 연산을 진행해보세요. \n",
    "\n",
    "import numpy as np\n",
    "\n",
    "arr1 = np.random.rand(5,3)\n",
    "arr2 = np.random.rand(3,2)\n",
    "\n",
    "dot = np.dot(arr1,arr2)\n",
    "\n",
    "print(dot,dot.shape)\n",
    "\n"
   ]
  },
  {
   "cell_type": "code",
   "execution_count": 5,
   "metadata": {},
   "outputs": [
    {
     "ename": "NameError",
     "evalue": "name 'np' is not defined",
     "output_type": "error",
     "traceback": [
      "\u001b[1;31m---------------------------------------------------------------------------\u001b[0m",
      "\u001b[1;31mNameError\u001b[0m                                 Traceback (most recent call last)",
      "\u001b[1;32mc:\\Users\\Ddong Da rella\\Desktop\\코딩\\Boost_Python\\Week\\week 3.ipynb Cell 3'\u001b[0m in \u001b[0;36m<module>\u001b[1;34m\u001b[0m\n\u001b[0;32m      <a href='vscode-notebook-cell:/c%3A/Users/Ddong%20Da%20rella/Desktop/%EC%BD%94%EB%94%A9/Boost_Python/Week/week%203.ipynb#ch0000002?line=0'>1</a>\u001b[0m \u001b[39m# Q2. \u001b[39;00m\n\u001b[0;32m      <a href='vscode-notebook-cell:/c%3A/Users/Ddong%20Da%20rella/Desktop/%EC%BD%94%EB%94%A9/Boost_Python/Week/week%203.ipynb#ch0000002?line=1'>2</a>\u001b[0m \u001b[39m# 두번째로는 numpy에서 자주 사용하는 concatenate 연산에 대한 미션을 수행해보겠습니다. \u001b[39;00m\n\u001b[0;32m      <a href='vscode-notebook-cell:/c%3A/Users/Ddong%20Da%20rella/Desktop/%EC%BD%94%EB%94%A9/Boost_Python/Week/week%203.ipynb#ch0000002?line=2'>3</a>\u001b[0m \u001b[39m# 이제 Numpy에서 사용하는 2개의 numpy array가 있을때, 두 numpy array의 concatenate 연산을 구해보세요.  \u001b[39;00m\n\u001b[0;32m      <a href='vscode-notebook-cell:/c%3A/Users/Ddong%20Da%20rella/Desktop/%EC%BD%94%EB%94%A9/Boost_Python/Week/week%203.ipynb#ch0000002?line=3'>4</a>\u001b[0m \u001b[39m# axis는 0, 1 두개로 연산한 결과를 출력해보세요. 각 데이터가 어떤 형태로 더해지는지 확인해보세요.\u001b[39;00m\n\u001b[1;32m----> <a href='vscode-notebook-cell:/c%3A/Users/Ddong%20Da%20rella/Desktop/%EC%BD%94%EB%94%A9/Boost_Python/Week/week%203.ipynb#ch0000002?line=5'>6</a>\u001b[0m arr1\u001b[39m=\u001b[39mnp\u001b[39m.\u001b[39marray([[\u001b[39m5\u001b[39m,\u001b[39m7\u001b[39m],[\u001b[39m9\u001b[39m,\u001b[39m11\u001b[39m]],\u001b[39mfloat\u001b[39m)\n\u001b[0;32m      <a href='vscode-notebook-cell:/c%3A/Users/Ddong%20Da%20rella/Desktop/%EC%BD%94%EB%94%A9/Boost_Python/Week/week%203.ipynb#ch0000002?line=6'>7</a>\u001b[0m arr2\u001b[39m=\u001b[39mnp\u001b[39m.\u001b[39marray([[\u001b[39m2\u001b[39m,\u001b[39m4\u001b[39m],[\u001b[39m6\u001b[39m,\u001b[39m8\u001b[39m]],\u001b[39mfloat\u001b[39m)\n\u001b[0;32m      <a href='vscode-notebook-cell:/c%3A/Users/Ddong%20Da%20rella/Desktop/%EC%BD%94%EB%94%A9/Boost_Python/Week/week%203.ipynb#ch0000002?line=8'>9</a>\u001b[0m concat_1\u001b[39m=\u001b[39mnp\u001b[39m.\u001b[39mconcatenate((arr1,arr2),axis\u001b[39m=\u001b[39m\u001b[39m0\u001b[39m)\n",
      "\u001b[1;31mNameError\u001b[0m: name 'np' is not defined"
     ]
    }
   ],
   "source": [
    "# Q2. \n",
    "# 두번째로는 numpy에서 자주 사용하는 concatenate 연산에 대한 미션을 수행해보겠습니다. \n",
    "# 이제 Numpy에서 사용하는 2개의 numpy array가 있을때, 두 numpy array의 concatenate 연산을 구해보세요.  \n",
    "# axis는 0, 1 두개로 연산한 결과를 출력해보세요. 각 데이터가 어떤 형태로 더해지는지 확인해보세요.\n",
    "\n",
    "arr1=np.array([[5,7],[9,11]],float)\n",
    "arr2=np.array([[2,4],[6,8]],float)\n",
    "\n",
    "concat_1=np.concatenate((arr1,arr2),axis=0)\n",
    "concat_2=np.concatenate((arr1,arr2),axis=1)\n",
    "\n",
    "print(concat_1)\n",
    "print(concat_2)\n",
    "\n"
   ]
  },
  {
   "cell_type": "code",
   "execution_count": null,
   "metadata": {},
   "outputs": [],
   "source": [
    "# Q3. \n",
    "# 3번부터 5번까지의 미션는 Numpy를 이용해서 정답값을 예측해보는 linear regression을 구현해 보는 미션입니다. \n",
    "# 첫번째 단계로 데이터를 준비해보도록 하겠습니다. 아래와 같이 데이터가 주어져있을 때, 경사하강법을 위한 데이터를 분리해보세요.\n",
    "# 주어진 xy 데이터를 이용해서 학습과 정답 데이터를 준비해보세요.\n",
    "# *추가 수정* 문제에서 주어진 xy에서 대괄호를 한 번 더 묶어주어야 문제 해결이 가능합니다.\n",
    "# (차원 관련)  (np.array([[1., 2., 3., 4., 5., 6.], [10., 20., 30., 40., 50., 60.]])\n",
    "\n",
    "import numpy as np\n",
    "\n",
    "xy=np.array([[1.,2.,3.,4.,5.,6.],[10.,20.,30.,40.,50.,60.]])\n",
    "\n",
    "x_train=xy[0]\n",
    "y_train=xy[1]\n",
    "\n",
    "print(x_train,x_train.shape)\n",
    "print(y_train,y_train.shape)"
   ]
  },
  {
   "cell_type": "code",
   "execution_count": null,
   "metadata": {},
   "outputs": [],
   "source": [
    "# Q4. \n",
    "# 경사 하강법 구현을 위해서 위에서 분리한 x_train 데이터와 계산될 weight, bias 값을 정의해보세요. \n",
    "# 여기서 구현한 weight와 bias 는 linear regression 계산을 진행할시 직선의 기울기와 y 절편의 값이 됩니다.\n",
    "# numpy 내의 random 함수를 이용해보세요.\n",
    "\n",
    "beta_gd=\n",
    "bias=\n",
    "\n",
    "print(beta_gd,bias)\n"
   ]
  },
  {
   "cell_type": "code",
   "execution_count": null,
   "metadata": {},
   "outputs": [],
   "source": [
    "# Q5. \n",
    "# 이제 최종적으로 linear regression을 경사하강법으로 학습하는 코드를 구현해봅시다. \n",
    "# 경사하강법 구현을 위한 학습 Loop를 구현해보세요. \n",
    "# 최종적으로 1000회 반복했을 시에 결과를 출력하세요. \n",
    "# 단, Error는 차이의 제곱을 이용해서 계산해주세요.\n",
    "# Gradient 값은 우리가 예측하는 각 변수에 대한 미분값입니다."
   ]
  }
 ],
 "metadata": {
  "interpreter": {
   "hash": "16a6a006423b4e083c4a8ed8de9f32d97eb597814e4c55d308f78d34267cbb9b"
  },
  "kernelspec": {
   "display_name": "Python 3.10.1 64-bit",
   "language": "python",
   "name": "python3"
  },
  "language_info": {
   "codemirror_mode": {
    "name": "ipython",
    "version": 3
   },
   "file_extension": ".py",
   "mimetype": "text/x-python",
   "name": "python",
   "nbconvert_exporter": "python",
   "pygments_lexer": "ipython3",
   "version": "3.10.1"
  },
  "orig_nbformat": 4
 },
 "nbformat": 4,
 "nbformat_minor": 2
}
