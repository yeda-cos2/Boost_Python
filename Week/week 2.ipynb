{
 "cells": [
  {
   "cell_type": "markdown",
   "metadata": {},
   "source": [
    "## Week 2\n",
    "---"
   ]
  },
  {
   "cell_type": "code",
   "execution_count": 9,
   "metadata": {},
   "outputs": [
    {
     "name": "stdout",
     "output_type": "stream",
     "text": [
      "62.5\n"
     ]
    }
   ],
   "source": [
    "# Q1\n",
    "# 중간고사 기말고사 점수를 따로 받아 저장하는 클래스를 구현해보세요. \n",
    "# 단, 생성자의 인스턴스는 private으로 선언되어야하며, \n",
    "# 데코레이터를 이용해 데이터를 저장하고, 함수를 이용해 평균값을 출력해보세요.\n",
    "# - 자료형의 선언과 데코레이터를 이용해보세요.\n",
    "\n",
    "# test score,mid:50, final:75\n",
    "\n",
    "class Score:\n",
    "    def __init__(self,mid,final):\n",
    "        self.__mid = mid\n",
    "        self.__final = final\n",
    "    \n",
    "    @property\n",
    "    def mid(self):\n",
    "        return self.__mid\n",
    "\n",
    "    @property\n",
    "    def final(self):\n",
    "        return self.__final\n",
    "\n",
    "score = Score(50,75)\n",
    "print((score.mid + score.final)/2)"
   ]
  },
  {
   "cell_type": "code",
   "execution_count": 10,
   "metadata": {},
   "outputs": [
    {
     "name": "stdout",
     "output_type": "stream",
     "text": [
      "gas 2 small\n"
     ]
    }
   ],
   "source": [
    "# Q2. \n",
    "# 다양한 탈 것을 사용하는 게임을 만드는 중입니다. \n",
    "# 빠른 구현을 위해서 이미 구현한 Car 클래스를 이용해서 Bike라는 클래스를 새로 제작하려고 합니다. \n",
    "# Car 클래스를 상속받아서 새로운 Bike 클래스를 아래와 같이 출력되도록 구성해보세요.\n",
    "# -Bike class는 size 인자를 추가로 가집니다.\n",
    "\n",
    "class Car():\n",
    "    def __init__(self, fuel, wheels):\n",
    "        self.fuel = fuel\n",
    "        self.wheels = wheels\n",
    "\n",
    "class Bike(Car):\n",
    "    def __init__(self, fuel, wheels,size):\n",
    "        super().__init__(fuel,wheels)\n",
    "        self.size = size\n",
    "\n",
    "bike = Bike(\"gas\",2,\"small\")\n",
    "print(bike.fuel,bike.wheels,bike.size)\n",
    "    \n"
   ]
  },
  {
   "cell_type": "code",
   "execution_count": 11,
   "metadata": {},
   "outputs": [
    {
     "data": {
      "text/plain": [
       "[['73,80,75,152'],\n",
       " ['93,88,93,185'],\n",
       " ['89,91,90,180'],\n",
       " ['96,98,100,196'],\n",
       " ['73,66,70,142'],\n",
       " ['53,46,55,101'],\n",
       " ['69,74,77,149'],\n",
       " ['47,56,60,115'],\n",
       " ['87,79,90,175'],\n",
       " ['79,70,88,164'],\n",
       " ['69,70,73,141'],\n",
       " ['70,65,74,141'],\n",
       " ['93,95,91,184'],\n",
       " ['79,80,73,152'],\n",
       " ['70,73,78,148'],\n",
       " ['93,89,96,192'],\n",
       " ['78,75,68,147'],\n",
       " ['81,90,93,183'],\n",
       " ['88,92,86,177'],\n",
       " ['78,83,77,159'],\n",
       " ['82,86,90,177'],\n",
       " ['86,82,89,175'],\n",
       " ['78,83,85,175'],\n",
       " ['76,83,71,149'],\n",
       " ['96,93,95,192']]"
      ]
     },
     "execution_count": 11,
     "metadata": {},
     "output_type": "execute_result"
    }
   ],
   "source": [
    "# Q3. \n",
    "# 이번 시험 결과에 대한 데이터를 학과 사무실에서 CSV파일로 전달해줬습니다. \n",
    "# 우리는 이 파일을 이용해서 데이터 처리를 진행해야 합니다. \n",
    "# 파일 입출력을 이용해 파일 데이터를 리스트로 만들어보세요.\n",
    "# - 파일 입출력에 사용하는 open 함수를 이용해 CSV 파일 내부의 데이터를 읽어보세요\n",
    "file_path = \"./data-01-test-score.csv\"\n",
    "\n",
    "def read_file(file_path):\n",
    "    a=''\n",
    "    read_csv = open(file_path,'r')\n",
    "    a = read_csv.readlines()\n",
    "    for i in range(0,len(a)):\n",
    "        a[i]=a[i].strip().split(' ')\n",
    "    read_csv.close()\n",
    "    return(a)\n",
    "\n",
    "read_file(file_path)\n",
    "\n",
    "\n",
    "\n",
    "\n",
    "    "
   ]
  },
  {
   "cell_type": "code",
   "execution_count": 12,
   "metadata": {},
   "outputs": [
    {
     "name": "stdout",
     "output_type": "stream",
     "text": [
      "[['73,80,75,152'], ['93,88,93,185'], ['89,91,90,180'], ['96,98,100,196'], ['73,66,70,142'], ['53,46,55,101'], ['69,74,77,149'], ['47,56,60,115'], ['87,79,90,175'], ['79,70,88,164'], ['69,70,73,141'], ['70,65,74,141'], ['93,95,91,184'], ['79,80,73,152'], ['70,73,78,148'], ['93,89,96,192'], ['78,75,68,147'], ['81,90,93,183'], ['88,92,86,177'], ['78,83,77,159'], ['82,86,90,177'], ['86,82,89,175'], ['78,83,85,175'], ['76,83,71,149'], ['96,93,95,192']]\n"
     ]
    },
    {
     "ename": "ValueError",
     "evalue": "invalid literal for int() with base 10: '73,80,75,152'",
     "output_type": "error",
     "traceback": [
      "\u001b[1;31m---------------------------------------------------------------------------\u001b[0m",
      "\u001b[1;31mValueError\u001b[0m                                Traceback (most recent call last)",
      "Input \u001b[1;32mIn [12]\u001b[0m, in \u001b[0;36m<module>\u001b[1;34m\u001b[0m\n\u001b[0;32m     25\u001b[0m read_csv \u001b[38;5;241m=\u001b[39m ReadCSV(file_path)\n\u001b[0;32m     26\u001b[0m \u001b[38;5;28mprint\u001b[39m(read_csv\u001b[38;5;241m.\u001b[39mread_file())\n\u001b[1;32m---> 27\u001b[0m \u001b[38;5;28mprint\u001b[39m(\u001b[43mread_csv\u001b[49m\u001b[38;5;241;43m.\u001b[39;49m\u001b[43mmerge_list\u001b[49m\u001b[43m(\u001b[49m\u001b[43m)\u001b[49m)\n",
      "Input \u001b[1;32mIn [12]\u001b[0m, in \u001b[0;36mReadCSV.merge_list\u001b[1;34m(self)\u001b[0m\n\u001b[0;32m     22\u001b[0m \u001b[38;5;28;01mdef\u001b[39;00m \u001b[38;5;21mmerge_list\u001b[39m(\u001b[38;5;28mself\u001b[39m):\n\u001b[1;32m---> 23\u001b[0m     \u001b[38;5;28;01mreturn\u001b[39;00m [\u001b[38;5;28msum\u001b[39m(\u001b[38;5;28mmap\u001b[39m(\u001b[38;5;28mint\u001b[39m,x)) \u001b[38;5;28;01mfor\u001b[39;00m x \u001b[38;5;129;01min\u001b[39;00m \u001b[38;5;28mself\u001b[39m\u001b[38;5;241m.\u001b[39mread_file()]\n",
      "Input \u001b[1;32mIn [12]\u001b[0m, in \u001b[0;36m<listcomp>\u001b[1;34m(.0)\u001b[0m\n\u001b[0;32m     22\u001b[0m \u001b[38;5;28;01mdef\u001b[39;00m \u001b[38;5;21mmerge_list\u001b[39m(\u001b[38;5;28mself\u001b[39m):\n\u001b[1;32m---> 23\u001b[0m     \u001b[38;5;28;01mreturn\u001b[39;00m [\u001b[38;5;28;43msum\u001b[39;49m\u001b[43m(\u001b[49m\u001b[38;5;28;43mmap\u001b[39;49m\u001b[43m(\u001b[49m\u001b[38;5;28;43mint\u001b[39;49m\u001b[43m,\u001b[49m\u001b[43mx\u001b[49m\u001b[43m)\u001b[49m\u001b[43m)\u001b[49m \u001b[38;5;28;01mfor\u001b[39;00m x \u001b[38;5;129;01min\u001b[39;00m \u001b[38;5;28mself\u001b[39m\u001b[38;5;241m.\u001b[39mread_file()]\n",
      "\u001b[1;31mValueError\u001b[0m: invalid literal for int() with base 10: '73,80,75,152'"
     ]
    }
   ],
   "source": [
    "# Q4. \n",
    "# 우리는 방금 CSV 파일을 읽는 함수를 구현해보았습니다. \n",
    "# 하지만 이를 조금 더 효율적으로 사용하기 위해서 클래스로 구성을 진행하려고 합니다. \n",
    "# 방금 구현한 함수를 포함한 클래스를 구현해보세요.\n",
    "# - merge list를 이용해 리스트 내 데이터의 합을 출력해보세요.\n",
    "# - 데이터를 합치기 전 데이터의 자료형을 변경해보세요.\n",
    "file_path = \"./data-01-test-score.csv\"\n",
    "\n",
    "class ReadCSV:\n",
    "    def __init__(self,file_path):\n",
    "        self.file_path = file_path\n",
    "\n",
    "    def read_file(self):\n",
    "        a=''\n",
    "        read_csv = open(file_path,'r')\n",
    "        a = read_csv.readlines()\n",
    "        for i in range(0,len(a)):\n",
    "            a[i]=a[i].strip().split(' ')\n",
    "        read_csv.close()\n",
    "        return a\n",
    "\n",
    "    def merge_list(self):\n",
    "        return [sum(map(int,x)) for x in self.read_file()]\n",
    "        \n",
    "read_csv = ReadCSV(file_path)\n",
    "print(read_csv.read_file())\n",
    "print(read_csv.merge_list())\n",
    "\n",
    "'''지금 출력되는 형태를 보시면\n",
    "[10, 65,74,141] : 정수가 저장된 리스트가 아니라\n",
    "[ '10,65,74,141' ] : 수를 묶어서 문자열로 만든 뒤 리스트에 넣은 형태입니다.\n",
    "(따음표 ' 의 위치에 주목하세요!!)\n",
    "때문에 map 함수에서 int 자료형으로 변환을 시도할 때\n",
    "int('10,65,74,141') 형태로 진행하게 되므로\n",
    "에러가 발생하는걸로 보입니다.\n",
    "한 줄씩 뜯어보면 for 문에서 문제가 있음을 알 수 있는데요, split() 은 입력 문자를 기준으로 해당 문자열을 분리하는 함수입니다.\n",
    "a[i].split(' ') : 스플릿 입력값으로 ' ' 공백을 넣으셨는데, 리스트 내부의 값 a[i] 라는 스트링 내부에는 공백이  없습니다. (떄문에 숫자들이 분리되지않고 연산 전과 다를바가 없는 형태로 존재하게 되고, int로 변환하는 과정에서 에러가 발생하는겁니다. )\n",
    "문자열을 나누는 기준을 , (컴마)로 바꿔주신다면 조금 더 나은 코드가 될 것 같습니다. '''"
   ]
  },
  {
   "cell_type": "code",
   "execution_count": null,
   "metadata": {},
   "outputs": [],
   "source": [
    "# Q5. \n",
    "# 이전에 구현한 클래스에서 merge_list의 함수 동작을 변경해야합니다. \n",
    "# 단순합계가 아닌 평균을 구하는 함수로 변경해보세요.\n",
    "# - 리스트의 데이터를 다루는 함수를 이용해서 구현해보세요.\n",
    "# - 최종 평균을 구한 후 오름차순으로 정렬해주세요.\n",
    "file_path = \"./data-01-test-score.csv\"\n",
    "\n",
    "class ReadCSV():\n",
    "    def __init__(self, file_path):\n",
    "\n",
    "    def read_file(self, #):\n",
    "\n",
    "    def merge_list(self, #):\n"
   ]
  }
 ],
 "metadata": {
  "interpreter": {
   "hash": "16a6a006423b4e083c4a8ed8de9f32d97eb597814e4c55d308f78d34267cbb9b"
  },
  "kernelspec": {
   "display_name": "Python 3.10.1 64-bit",
   "language": "python",
   "name": "python3"
  },
  "language_info": {
   "codemirror_mode": {
    "name": "ipython",
    "version": 3
   },
   "file_extension": ".py",
   "mimetype": "text/x-python",
   "name": "python",
   "nbconvert_exporter": "python",
   "pygments_lexer": "ipython3",
   "version": "3.10.1"
  },
  "orig_nbformat": 4
 },
 "nbformat": 4,
 "nbformat_minor": 2
}
