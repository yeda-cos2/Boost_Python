{
 "cells": [
  {
   "cell_type": "code",
   "execution_count": null,
   "metadata": {},
   "outputs": [],
   "source": [
    "# Q1\n",
    "# test score, mid : 50, final : 75\n",
    "\n",
    "class Score():\n",
    "  def __init__(self, mid, final):\n",
    "    self.mid = mid\n",
    "    self.final = final\n",
    "  \n",
    "score = Score(50, 75)\n",
    "print((score.mid + score.final)/2)"
   ]
  },
  {
   "cell_type": "code",
   "execution_count": null,
   "metadata": {},
   "outputs": [],
   "source": [
    "# Q3\n",
    "# mount to drive\n",
    "from google.colab import drive\n",
    "drive.mount('/content/drive')\n",
    "\n",
    "import csv\n",
    "file_path = \"/content/drive/MyDrive/인공지능 기초/data-01-test-score.csv\"\n",
    "def read_file(file_path):\n",
    "\n",
    "  read_csv = open(file_path, \"r\")\n",
    "  data = csv.reader(read_csv)\n",
    "  return list(data)\n",
    "\n",
    "print(read_file(file_path))"
   ]
  },
  {
   "cell_type": "code",
   "execution_count": null,
   "metadata": {},
   "outputs": [],
   "source": [
    "# Q4\n",
    "class ReadCSV():\n",
    "  def __init__(self, file_path):\n",
    "    self.path = file_path\n",
    "  \n",
    "  def read_file(self):\n",
    "    read_csv = open(self.path, \"r\")\n",
    "    data = csv.reader(read_csv)\n",
    "    return list(data)\n",
    "  \n",
    "  def merge_list(self):\n",
    "    return [sum(map(int, x)) for x in self.read_file()]\n",
    "\n",
    "filepath = \"/content/drive/MyDrive/인공지능 기초/data-01-test-score.csv\"\n",
    "read_csv = ReadCSV(filepath)\n",
    "\n",
    "print(read_csv.read_file())\n",
    "print(read_csv.merge_list())"
   ]
  },
  {
   "cell_type": "code",
   "execution_count": null,
   "metadata": {},
   "outputs": [],
   "source": [
    "# Q5\n",
    "class ReadCSV():\n",
    "  def __init__(self, file_path):\n",
    "    self.path = file_path\n",
    "  \n",
    "  def read_file(self):\n",
    "    read_csv = open(self.path, \"r\")\n",
    "    data = csv.reader(read_csv)\n",
    "    return list(data)\n",
    "  \n",
    "  def merge_list(self):\n",
    "    return sorted([sum(map(int, x))/len(x) for x in self.read_file()])\n",
    "\n",
    "filepath = \"/content/drive/MyDrive/인공지능 기초/data-01-test-score.csv\"\n",
    "read_csv = ReadCSV(filepath)\n",
    "\n",
    "print(read_csv.merge_list())"
   ]
  }
 ],
 "metadata": {
  "language_info": {
   "name": "python"
  },
  "orig_nbformat": 4
 },
 "nbformat": 4,
 "nbformat_minor": 2
}
