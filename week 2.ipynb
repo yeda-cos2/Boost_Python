{
 "cells": [
  {
   "cell_type": "markdown",
   "metadata": {},
   "source": [
    "## Week 2\n",
    "---"
   ]
  },
  {
   "cell_type": "code",
   "execution_count": null,
   "metadata": {},
   "outputs": [],
   "source": [
    "# Q1\n",
    "# 중간고사 기말고사 점수를 따로 받아 저장하는 클래스를 구현해보세요. \n",
    "# 단, 생성자의 인스턴스는 private으로 선언되어야하며, \n",
    "# 데코레이터를 이용해 데이터를 저장하고, 함수를 이용해 평균값을 출력해보세요.\n",
    "# - 자료형의 선언과 데코레이터를 이용해보세요.\n",
    "\n",
    "# test score,mid:50, final:75\n",
    "\n",
    "class Score():\n",
    "\n",
    "score = Score(50,75)\n",
    "print((score.mid + score.final) / 2)\n",
    "\n"
   ]
  },
  {
   "cell_type": "code",
   "execution_count": null,
   "metadata": {},
   "outputs": [],
   "source": [
    "# Q2. \n",
    "# 다양한 탈 것을 사용하는 게임을 만드는 중입니다. \n",
    "# 빠른 구현을 위해서 이미 구현한 Car 클래스를 이용해서 Bike라는 클래스를 새로 제작하려고 합니다. \n",
    "# Car 클래스를 상속받아서 새로운 Bike 클래스를 아래와 같이 출력되도록 구성해보세요.\n",
    "# -Bike class는 size 인자를 추가로 가집니다.\n",
    "class Car():\n",
    "    def __init__(self, fuel, wheels):\n",
    "        self.fuel = fuel\n",
    "        self.wheels = wheels\n",
    "\n",
    "class Bike():\n",
    "    \n"
   ]
  },
  {
   "cell_type": "code",
   "execution_count": null,
   "metadata": {},
   "outputs": [],
   "source": [
    "# Q3. \n",
    "# 이번 시험 결과에 대한 데이터를 학과 사무실에서 CSV파일로 전달해줬습니다. \n",
    "# 우리는 이 파일을 이용해서 데이터 처리를 진행해야 합니다. \n",
    "# 파일 입출력을 이용해 파일 데이터를 리스트로 만들어보세요.\n",
    "# - 파일 입출력에 사용하는 open 함수를 이용해 CSV 파일 내부의 데이터를 읽어보세요\n",
    "file_path = \"./data-01-test-score.csv\"\n",
    "\n",
    "def read_file(file_path):\n",
    "    "
   ]
  },
  {
   "cell_type": "code",
   "execution_count": null,
   "metadata": {},
   "outputs": [],
   "source": [
    "# Q4. \n",
    "# 우리는 방금 CSV 파일을 읽는 함수를 구현해보았습니다. \n",
    "# 하지만 이를 조금 더 효율적으로 사용하기 위해서 클래스로 구성을 진행하려고 합니다. \n",
    "# 방금 구현한 함수를 포함한 클래스를 구현해보세요.\n",
    "# - merge list를 이용해 리스트 내 데이터의 합을 출력해보세요.\n",
    "# - 데이터를 합치기 전 데이터의 자료형을 변경해보세요.\n",
    "file_path = \"./data-01-test-score.csv\"\n",
    "\n",
    "class ReadCSV():\n",
    "    def __init__(self, file_path):\n",
    "\n",
    "    def read_file(self, #):\n",
    "\n",
    "    def merge_list(self, #):\n",
    "\n"
   ]
  },
  {
   "cell_type": "code",
   "execution_count": null,
   "metadata": {},
   "outputs": [],
   "source": [
    "# Q5. \n",
    "# 이전에 구현한 클래스에서 merge_list의 함수 동작을 변경해야합니다. \n",
    "# 단순합계가 아닌 평균을 구하는 함수로 변경해보세요.\n",
    "# - 리스트의 데이터를 다루는 함수를 이용해서 구현해보세요.\n",
    "# - 최종 평균을 구한 후 오름차순으로 정렬해주세요.\n",
    "file_path = \"./data-01-test-score.csv\"\n",
    "\n",
    "class ReadCSV():\n",
    "    def __init__(self, file_path):\n",
    "\n",
    "    def read_file(self, #):\n",
    "\n",
    "    def merge_list(self, #):\n"
   ]
  }
 ],
 "metadata": {
  "language_info": {
   "name": "python"
  },
  "orig_nbformat": 4
 },
 "nbformat": 4,
 "nbformat_minor": 2
}
