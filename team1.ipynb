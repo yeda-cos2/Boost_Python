{
 "cells": [
  {
   "cell_type": "code",
   "execution_count": 2,
   "metadata": {},
   "outputs": [
    {
     "name": "stdout",
     "output_type": "stream",
     "text": [
      "[1, 5, 7, 15, 29]\n"
     ]
    }
   ],
   "source": [
    "# Q1.\n",
    "\n",
    "num_list = [1,5,7,15,16,22,28,29]\n",
    "def get_odd_num(num_list):\n",
    "    odd_num_list = []\n",
    "    for num in num_list:\n",
    "        if num%2 != 0:\n",
    "            odd_num_list.append(num)\n",
    "    return odd_num_list\n",
    "print(get_odd_num(num_list))\n"
   ]
  },
  {
   "cell_type": "code",
   "execution_count": 3,
   "metadata": {},
   "outputs": [
    {
     "name": "stdout",
     "output_type": "stream",
     "text": [
      "[1, 5, 7, 15, 29]\n"
     ]
    }
   ],
   "source": [
    "# Q1.\n",
    "\n",
    "num_list = [1, 5, 7, 15, 16, 22, 28, 29]\n",
    "\n",
    "\n",
    "def get_odd_num(num_list):\n",
    "    return [x for x in num_list if x % 2 != 0]\n",
    "\n",
    "\n",
    "print(get_odd_num(num_list))"
   ]
  },
  {
   "cell_type": "code",
   "execution_count": 4,
   "metadata": {},
   "outputs": [
    {
     "name": "stdout",
     "output_type": "stream",
     "text": [
      "Where there is a will there is a way\n"
     ]
    }
   ],
   "source": [
    "# Q2.\n",
    "\n",
    "sentence = \"way a is there will a is there Where\"\n",
    "\n",
    "\n",
    "def reverse_sentence(sentence):\n",
    "    return \" \".join([x for x in sentence.split()[::-1]])\n",
    "\n",
    "\n",
    "print(reverse_sentence(sentence))"
   ]
  },
  {
   "cell_type": "code",
   "execution_count": 5,
   "metadata": {},
   "outputs": [
    {
     "name": "stdout",
     "output_type": "stream",
     "text": [
      "1 번, 평균 : 100.0\n",
      "2 번, 평균 : 92.5\n",
      "3 번, 평균 : 57.5\n",
      "4 번, 평균 : 77.5\n",
      "5 번, 평균 : 70.0\n"
     ]
    }
   ],
   "source": [
    "# Q3.\n",
    "\n",
    "score = [(100,100), (95,90), (55,60), (75,80), (70,70)]\n",
    "def get_avg(score):\n",
    "    for i,s in enumerate(score):\n",
    "        print('{0} 번, 평균 : {1}'.format((i+1),sum(s)/len(s)))\n",
    "get_avg(score)"
   ]
  },
  {
   "cell_type": "code",
   "execution_count": 10,
   "metadata": {},
   "outputs": [
    {
     "name": "stdout",
     "output_type": "stream",
     "text": [
      "1 번, 평균 : 100.0\n",
      "2 번, 평균 : 92.5\n",
      "3 번, 평균 : 57.5\n",
      "4 번, 평균 : 77.5\n",
      "5 번, 평균 : 70.0\n"
     ]
    }
   ],
   "source": [
    "# Q3.\n",
    "\n",
    "score = [(100, 100), (95, 90), (55, 60), (75, 80), (70, 70)]\n",
    "\n",
    "\n",
    "def get_avg(score):\n",
    "    for i in range(len(score)):\n",
    "        print(\"{} 번, 평균 : {}\".format(i+1, sum(score[i])/len(score[i])))\n",
    "    return None\n",
    "\n",
    "\n",
    "get_avg(score)"
   ]
  },
  {
   "cell_type": "code",
   "execution_count": 7,
   "metadata": {},
   "outputs": [
    {
     "name": "stdout",
     "output_type": "stream",
     "text": [
      "{'사과': 35, '감': 35, '배': 30, '귤': 25, '포도': 10}\n"
     ]
    }
   ],
   "source": [
    "# Q4.\n",
    "\n",
    "dict_first = {\"사과\": 30, \"배\": 15, \"감\": 10, \"포도\": 10}\n",
    "dict_second = {\"사과\": 5,  \"감\": 25, \"배\": 15, \"귤\": 25}\n",
    "\n",
    "\n",
    "def merge_dict(dict_first, dict_second):\n",
    "    for k in dict_first.keys():\n",
    "        if k in dict_second.keys():\n",
    "            dict_second[k] += dict_first[k]\n",
    "        else:\n",
    "            dict_second[k] = dict_first[k]\n",
    "    return dict_second\n",
    "\n",
    "\n",
    "print(merge_dict(dict_first, dict_second))"
   ]
  },
  {
   "cell_type": "code",
   "execution_count": 8,
   "metadata": {},
   "outputs": [
    {
     "name": "stdout",
     "output_type": "stream",
     "text": [
      "{'감': 35, '귤': 25, '배': 30, '사과': 35, '포도': 10}\n"
     ]
    }
   ],
   "source": [
    "# Q4.\n",
    "\n",
    "from collections import Counter\n",
    "dict_first = {'사과':30,'배':15,'감':10,'포도':10}\n",
    "dict_second = {'사과':5,'감':25,'배':15,'귤':25}\n",
    "\n",
    "def merge_dict(dict_first,dict_second):\n",
    "   dict_merge = dict(Counter(dict_first)+Counter(dict_second))\n",
    "   result = dict(sorted(dict_merge.items()))\n",
    "   return result\n",
    "print(merge_dict(dict_first,dict_second))"
   ]
  },
  {
   "cell_type": "code",
   "execution_count": 9,
   "metadata": {},
   "outputs": [
    {
     "name": "stdout",
     "output_type": "stream",
     "text": [
      "['cat', 'dog', 'cow']\n"
     ]
    }
   ],
   "source": [
    "# Q5.\n",
    "\n",
    "inputs = \"cat32dog16cow5\"\n",
    "\n",
    "\n",
    "def find_string(inputs):\n",
    "    answer = \"\"\n",
    "    for i in range(len(inputs)):\n",
    "        if ord(inputs[i]) in range(48, 58):\n",
    "            answer += \" \"\n",
    "        else:\n",
    "            answer += inputs[i]\n",
    "    return answer.split()\n",
    "\n",
    "\n",
    "string_list = find_string(inputs)\n",
    "print(string_list)"
   ]
  }
 ],
 "metadata": {
  "interpreter": {
   "hash": "16a6a006423b4e083c4a8ed8de9f32d97eb597814e4c55d308f78d34267cbb9b"
  },
  "kernelspec": {
   "display_name": "Python 3.10.1 64-bit",
   "language": "python",
   "name": "python3"
  },
  "language_info": {
   "codemirror_mode": {
    "name": "ipython",
    "version": 3
   },
   "file_extension": ".py",
   "mimetype": "text/x-python",
   "name": "python",
   "nbconvert_exporter": "python",
   "pygments_lexer": "ipython3",
   "version": "3.10.1"
  },
  "orig_nbformat": 4
 },
 "nbformat": 4,
 "nbformat_minor": 2
}
