{
 "cells": [
  {
   "cell_type": "code",
   "execution_count": 14,
   "metadata": {},
   "outputs": [],
   "source": [
    "class SoccerPlayer(object):\n",
    "    def __init__(self, name, position, back_number):\n",
    "    # 어떤 정본지 힌트 주고 싶으면\n",
    "    # def __init__(self, name: str, position: str, back_number: int):\n",
    "        self.name = name\n",
    "        self.position = position\n",
    "        self.back_number = back_number\n",
    "\n",
    "    def change_back_number(self, new_number):\n",
    "        print(\"선수의 등번호를 변경합니다. : From %d to %d\" %\\\n",
    "            (self.back_number, new_number))\n",
    "\n",
    "    def __str__(self): #특별한 예약함수. \n",
    "        return \"Hello. my name is %s. my bck number is %d\" %\\\n",
    "            (self.name, self.back_number)\n",
    "\n",
    "    def __add__(self,other): \n",
    "        return self.name + other.name\n",
    "\n",
    "# 여기까진 설계도"
   ]
  },
  {
   "cell_type": "code",
   "execution_count": 11,
   "metadata": {},
   "outputs": [],
   "source": [
    "# abc = SoccerPlyaer() 괄호 안에 값을 입력해야 함. 오류뜸\n",
    "abc = SoccerPlayer(\"son\",\"FW\",7)\n",
    "# abc라는 객체를 만든 것\n",
    "park = SoccerPlayer(\"park\",\"WF\",13)"
   ]
  },
  {
   "cell_type": "code",
   "execution_count": 12,
   "metadata": {},
   "outputs": [
    {
     "data": {
      "text/plain": [
       "False"
      ]
     },
     "execution_count": 12,
     "metadata": {},
     "output_type": "execute_result"
    }
   ],
   "source": [
    "abc is park\n",
    "#서로 다른 객체"
   ]
  },
  {
   "cell_type": "code",
   "execution_count": 15,
   "metadata": {},
   "outputs": [
    {
     "name": "stdout",
     "output_type": "stream",
     "text": [
      "Hello. my name is jinhyun. my bck number is 10\n"
     ]
    }
   ],
   "source": [
    "choi = SoccerPlayer(\"jinhyun\",\"mf\",10)\n",
    "print(choi)"
   ]
  },
  {
   "cell_type": "code",
   "execution_count": 16,
   "metadata": {},
   "outputs": [
    {
     "name": "stdout",
     "output_type": "stream",
     "text": [
      "선수의 등번호를 변경합니다. : From 10 to 7\n",
      "Hello. my name is jinhyun. my bck number is 10\n"
     ]
    }
   ],
   "source": [
    "choi.change_back_number(7)\n",
    "print(choi)\n",
    "\n",
    "# choi.back_number = 20 이렇게도 변경 가능함"
   ]
  },
  {
   "cell_type": "code",
   "execution_count": 36,
   "metadata": {},
   "outputs": [],
   "source": [
    "# 노트북 만들기\n",
    "class Note(object):\n",
    "    def __init__(self,content=None):\n",
    "        self.content = content\n",
    "    \n",
    "    def write_content(self,content):\n",
    "        self.content = content\n",
    "    \n",
    "    def remove_all(self):\n",
    "        self.content = \"\"\n",
    "\n",
    "    def __add__(self,other):\n",
    "        return self.content + other.content\n",
    "    \n",
    "    def __str__(self):\n",
    "        return self.content\n",
    "\n",
    "class NoteBook(object):\n",
    "    def __init__(self,title):\n",
    "        self.title = title\n",
    "        self.page_number = 1\n",
    "        self.notes={}\n",
    "\n",
    "    def add_note(self,note,page=0):\n",
    "        if self.page_number<300:\n",
    "            if page==0:\n",
    "                self.notes[self.page_number]=note\n",
    "                self.page_number += 1\n",
    "            else:\n",
    "                self.notes = {page:note} # self.notes[page]=note로 바꿔주면 새로운 딕셔너리 추가될 때마다 초기화되는 문제를 막기 위해? 더 좋은 코드\n",
    "                self.page_number += 1\n",
    "        else:\n",
    "            print(\"페이지가 모두 채워졌습니다\")\n",
    "    def remove_note(self,page_number):\n",
    "        if page_number in self.notes.key():\n",
    "            return self.notes.pop(page_number)\n",
    "        else:\n",
    "            print(\"해당 페이지는 존재하지 않습니다\")\n",
    "    \n",
    "    def get_number_of_pages(self):\n",
    "        return len(self.notes.keys())\n"
   ]
  },
  {
   "cell_type": "code",
   "execution_count": 38,
   "metadata": {},
   "outputs": [
    {
     "name": "stdout",
     "output_type": "stream",
     "text": [
      "아 수업하기싫다\n",
      "파이썬강의\n",
      "파이썬강의\n"
     ]
    }
   ],
   "source": [
    "# 또 다른 방법(모듈)\n",
    "# from 파일명 import 클래스\n",
    "\n",
    "# from teamlab_note import Note\n",
    "# from teamlab_note import NoteBook\n",
    "\n",
    "my_notebook = NoteBook(\"팀랩 강의노트\")\n",
    "my_notebook.title\n",
    "\n",
    "new_note = Note(\"아 수업하기싫다\")\n",
    "print(new_note)\n",
    "\n",
    "new_note_2 = Note(\"파이썬강의\")\n",
    "print(new_note_2)\n",
    "\n",
    "my_notebook.add_note(new_note)\n",
    "my_notebook.add_note(new_note_2,100)\n",
    "my_notebook.get_number_of_pages()\n",
    "\n",
    "print(my_notebook.notes[100]) #100페이지에 있는 정보, 정보 없다면 에러\n",
    "my_notebook.notes[2] = Note(\"안녕\") #이렇게 추가 가능\n"
   ]
  },
  {
   "cell_type": "code",
   "execution_count": 45,
   "metadata": {},
   "outputs": [
    {
     "name": "stdout",
     "output_type": "stream",
     "text": [
      "제 이름은 john 이구요. 제 나이는 34 입니다\n",
      "제 이름은 daeho 이구요. 제 나이는 34 입니다\n",
      "제 급여는 30000 원 이구요. 제 입사일은 2012/03/01 입니다\n"
     ]
    }
   ],
   "source": [
    "# Inheritance 상속\n",
    "class Person(object):\n",
    "    def __init__(self,name,age,gender):\n",
    "        self.name = name\n",
    "        self.age = age\n",
    "        self.gender = gender\n",
    "\n",
    "    def about_me(self):\n",
    "        print(\"제 이름은\",self.name,\"이구요. 제 나이는\",self.age,\"입니다\")\n",
    "\n",
    "    def __str__(self):\n",
    "        return \"저의 이름은 {0}입니다. 나이는 {1} 입니다.\".format(self.name,self.age)\n",
    "\n",
    "class Korean(Person):\n",
    "    pass \n",
    "\n",
    "# first_korean = Korean(\"Sungchul\",35)\n",
    "# print(first_korean)\n",
    "\n",
    "class Employee(Person): #부모 클래스 person 상속\n",
    "    def __init__(self,name,age,gender,salary,hire_date):\n",
    "        super().__init__(name,age,gender)\n",
    "        self.salary = salary\n",
    "        self.hire_date = hire_date\n",
    "    \n",
    "    def do_work(self):\n",
    "        print(\"열심히 일을 합니다\")\n",
    "    \n",
    "    def about_me(self):\n",
    "        super().about_me()\n",
    "        print(\"제 급여는\",self.salary,\"원 이구요. 제 입사일은\",self.hire_date,\"입니다\")\n",
    "\n",
    "myPerson = Person(\"john\",34,\"Male\")\n",
    "myPerson.about_me()\n",
    "\n",
    "myEmployee = Employee(\"daeho\",34,\"male\",30000,\"2012/03/01\")\n",
    "myEmployee.about_me()\n"
   ]
  },
  {
   "cell_type": "code",
   "execution_count": 23,
   "metadata": {},
   "outputs": [
    {
     "name": "stdout",
     "output_type": "stream",
     "text": [
      "new item added\n",
      "new item added\n"
     ]
    },
    {
     "data": {
      "text/plain": [
       "[<__main__.Product at 0x2afc17c3520>,\n",
       " <__main__.Product at 0x2afc17c2d10>,\n",
       " 'abc']"
      ]
     },
     "execution_count": 23,
     "metadata": {},
     "output_type": "execute_result"
    }
   ],
   "source": [
    "class Product(object):\n",
    "    pass\n",
    "\n",
    "class Inventory(object):\n",
    "    def __init__(self):\n",
    "        self.items=[]\n",
    "        self.test=\"abc\"\n",
    "\n",
    "    def add_new_item(self,product):\n",
    "        if type(product) == Product:\n",
    "            self.items.append(product)\n",
    "            print(\"new item added\")\n",
    "        else:\n",
    "            raise ValueError(\"Invalid Item\")\n",
    "\n",
    "    def get_number_of_items(self):\n",
    "        return len(self.items)\n",
    "\n",
    "my_inventory = Inventory()\n",
    "my_inventory.add_new_item(Product())\n",
    "my_inventory.add_new_item(Product())\n",
    "my_inventory.items.append(\"abc\")\n",
    "my_inventory.items\n",
    "\n",
    "#product말고 class도 추가가 가능. 외부 접근이 가능해서 __필요!\n"
   ]
  },
  {
   "cell_type": "code",
   "execution_count": 26,
   "metadata": {},
   "outputs": [
    {
     "name": "stdout",
     "output_type": "stream",
     "text": [
      "new item added\n",
      "new item added\n"
     ]
    },
    {
     "ename": "AttributeError",
     "evalue": "'Inventory' object has no attribute '__items'",
     "output_type": "error",
     "traceback": [
      "\u001b[1;31m---------------------------------------------------------------------------\u001b[0m",
      "\u001b[1;31mAttributeError\u001b[0m                            Traceback (most recent call last)",
      "Input \u001b[1;32mIn [26]\u001b[0m, in \u001b[0;36m<module>\u001b[1;34m\u001b[0m\n\u001b[0;32m     20\u001b[0m my_inventory\u001b[38;5;241m.\u001b[39madd_new_item(Product())\n\u001b[0;32m     21\u001b[0m my_inventory\u001b[38;5;241m.\u001b[39madd_new_item(Product())\n\u001b[1;32m---> 22\u001b[0m \u001b[43mmy_inventory\u001b[49m\u001b[38;5;241;43m.\u001b[39;49m\u001b[43m__items\u001b[49m\u001b[38;5;241m.\u001b[39mappend(\u001b[38;5;124m\"\u001b[39m\u001b[38;5;124mabc\u001b[39m\u001b[38;5;124m\"\u001b[39m)\n",
      "\u001b[1;31mAttributeError\u001b[0m: 'Inventory' object has no attribute '__items'"
     ]
    }
   ],
   "source": [
    "# 프라이빗_오류\n",
    "class Product(object):\n",
    "    pass\n",
    "\n",
    "class Inventory(object):\n",
    "    def __init__(self):\n",
    "        self.__items=[]\n",
    "        self.test=\"abc\"\n",
    "\n",
    "    def add_new_item(self,product):\n",
    "        if type(product) == Product:\n",
    "            self.__items.append(product)\n",
    "            print(\"new item added\")\n",
    "        else:\n",
    "            raise ValueError(\"Invalid Item\")\n",
    "\n",
    "    def get_number_of_items(self):\n",
    "        return len(self.__items)\n",
    "\n",
    "my_inventory = Inventory()\n",
    "my_inventory.add_new_item(Product())\n",
    "my_inventory.add_new_item(Product())\n",
    "my_inventory.__items.append(\"abc\")"
   ]
  },
  {
   "cell_type": "code",
   "execution_count": 29,
   "metadata": {},
   "outputs": [
    {
     "name": "stdout",
     "output_type": "stream",
     "text": [
      "******************************\n",
      "Hello\n",
      "******************************\n"
     ]
    }
   ],
   "source": [
    "# decorator\n",
    "def star(func):\n",
    "    def inner(*args, **kwargs):\n",
    "        print(\"*\" * 30)\n",
    "        func(*args,**kwargs)\n",
    "        print(\"*\"*30)\n",
    "    return inner\n",
    "\n",
    "@star\n",
    "def printer(msg):\n",
    "    print(msg)\n",
    "printer(\"Hello\")"
   ]
  },
  {
   "cell_type": "code",
   "execution_count": 30,
   "metadata": {},
   "outputs": [
    {
     "name": "stdout",
     "output_type": "stream",
     "text": [
      "&&&&&&&&&&&&&&&&&&&&&&&&&&&&&&\n",
      "Hello\n",
      "&&&&&&&&&&&&&&&&&&&&&&&&&&&&&&\n"
     ]
    }
   ],
   "source": [
    "# decorator\n",
    "def star(func):\n",
    "    def inner(*args, **kwargs):\n",
    "        print(args[1] * 30)\n",
    "        func(*args,**kwargs)\n",
    "        print(args[1]*30)\n",
    "    return inner\n",
    "\n",
    "@star\n",
    "def printer(msg,mark):\n",
    "    print(msg)\n",
    "printer(\"Hello\",\"&\")"
   ]
  },
  {
   "cell_type": "code",
   "execution_count": 32,
   "metadata": {},
   "outputs": [
    {
     "name": "stdout",
     "output_type": "stream",
     "text": [
      "******************************\n",
      "%%%%%%%%%%%%%%%%%%%%%%%%%%%%%%\n",
      "Hello\n",
      "%%%%%%%%%%%%%%%%%%%%%%%%%%%%%%\n",
      "******************************\n"
     ]
    }
   ],
   "source": [
    "# decorator\n",
    "def star(func):\n",
    "    def inner(*args, **kwargs):\n",
    "        print(\"*\" * 30)\n",
    "        func(*args,**kwargs)\n",
    "        print(\"*\"*30)\n",
    "    return inner\n",
    "\n",
    "\n",
    "def percent(func):\n",
    "    def inner(*args, **kwargs):\n",
    "        print(\"%\" * 30)\n",
    "        func(*args,**kwargs)\n",
    "        print(\"%\"*30)\n",
    "    return inner\n",
    "\n",
    "@star\n",
    "@percent\n",
    "def printer(msg):\n",
    "    print(msg)\n",
    "printer(\"Hello\")"
   ]
  },
  {
   "cell_type": "code",
   "execution_count": 1,
   "metadata": {},
   "outputs": [
    {
     "name": "stdout",
     "output_type": "stream",
     "text": [
      "7\n",
      "0.811661289392446\n"
     ]
    }
   ],
   "source": [
    "# Modules\n",
    "import random\n",
    "print(random.randint(0,100))\n",
    "print(random.random())"
   ]
  },
  {
   "cell_type": "code",
   "execution_count": null,
   "metadata": {},
   "outputs": [],
   "source": [
    "# CSV 파일 읽기\n",
    "line_counter=0\n",
    "data_header=[]\n",
    "customer_list=[]\n",
    "\n",
    "with open(\"customers.csv\") as customer_data:\n",
    "    \n",
    "    while True:\n",
    "        data=customer_data.readline()\n",
    "        if not data:break\n",
    "        if line_counter == 0:\n",
    "            data_header = data.split(\",\")\n",
    "        else:\n",
    "            customer_list.append(data.split(\",\"))\n",
    "        line_counter += 1\n",
    "\n",
    "print(\"header: \\t\",data_header)\n",
    "for i in range(0,10):\n",
    "    print(\"Data\",i,\":\\t\\t\",customer_list[i])\n",
    "print(len(customer_list))"
   ]
  },
  {
   "cell_type": "code",
   "execution_count": null,
   "metadata": {},
   "outputs": [],
   "source": [
    "# CSV 파일 쓰기\n",
    "line_counter=0\n",
    "data_header=[]\n",
    "employee=[]\n",
    "customer_USA_only_list=[]\n",
    "customer=None\n",
    "\n",
    "with open(\"customers.csv\",\"r\") as customer_data:\n",
    "    \n",
    "    while 1:\n",
    "        data=customer_data.readline()\n",
    "        if not data:break\n",
    "        if line_counter == 0:\n",
    "            data_header = data.split(\",\")\n",
    "        else:\n",
    "            customer = data.split(\",\")\n",
    "            if customer[10].upper() == \"USA\":\n",
    "                customer_USA_only_list.append(customer)\n",
    "        line_counter += 1\n",
    "\n",
    "print(\"header: \\t\",data_header)\n",
    "for i in range(0,10):\n",
    "    print(\"Data:\\t\\t\",customer_USA_only_list[i])\n",
    "print(len(customer_USA_only_list))\n",
    "\n",
    "\n",
    "with open(\"customers_USA_only.csv\",\"w\") as customer_USA_only_csv:\n",
    "    for customer in customer_USA_only_list:\n",
    "        customer_USA_only_csv.write(\",\".join(customer).strip('\\n')+\"\\n\")\n"
   ]
  },
  {
   "cell_type": "code",
   "execution_count": 8,
   "metadata": {},
   "outputs": [],
   "source": [
    "# CSV 객체 활용\n",
    "import csv\n",
    "seoung_nam_data=[]\n",
    "header=[]\n",
    "rownum=0\n",
    "\n",
    "with open(\"korea_foot_traffic_data.csv\",\"r\",encoding=\"cp949\") as p_file:\n",
    "    # 윈도우 저장:cp949 utf8이 아니라서 오류가 뜸..\n",
    "    csv_data=csv.reader(p_file)\n",
    "    for row in csv_data:\n",
    "        if rownum==0:\n",
    "            header=row\n",
    "        location=row[7]\n",
    "        if location.find(u\"성남시\")!=-1:\n",
    "            seoung_nam_data.append(row)\n",
    "        rownum += 1\n",
    "\n",
    "with open(\"seoung_nam_floating_population_data.csv\",\"w\",encoding=\"utf8\") as s_p_file:\n",
    "    writer=csv.writer(s_p_file,delimiter='\\t',quotechar=\"'\",quoting=csv.QUOTE_ALL)\n",
    "    writer.writerow(header)\n",
    "    for row in seoung_nam_data:\n",
    "        writer.writerow(row)"
   ]
  }
 ],
 "metadata": {
  "interpreter": {
   "hash": "16a6a006423b4e083c4a8ed8de9f32d97eb597814e4c55d308f78d34267cbb9b"
  },
  "kernelspec": {
   "display_name": "Python 3.10.1 64-bit",
   "language": "python",
   "name": "python3"
  },
  "language_info": {
   "codemirror_mode": {
    "name": "ipython",
    "version": 3
   },
   "file_extension": ".py",
   "mimetype": "text/x-python",
   "name": "python",
   "nbconvert_exporter": "python",
   "pygments_lexer": "ipython3",
   "version": "3.10.1"
  },
  "orig_nbformat": 4
 },
 "nbformat": 4,
 "nbformat_minor": 2
}
