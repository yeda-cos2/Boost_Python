{
 "cells": [
  {
   "cell_type": "code",
   "execution_count": 1,
   "metadata": {},
   "outputs": [
    {
     "name": "stdout",
     "output_type": "stream",
     "text": [
      "[64, 66, 68, 69, 72, 73, 75, 77]\n",
      "[64, 66, 68, 69, 72, 73, 75, 77]\n"
     ]
    }
   ],
   "source": [
    "celsius = [18, 19, 20, 21, 22, 23, 24, 25]\n",
    "\n",
    "def convert_farenheit(cel_list):\n",
    "    farenheit = []\n",
    "    for cel_value in cel_list:\n",
    "        if cel_value == 21:\n",
    "            farenheit.append(69)\n",
    "        else:\n",
    "            farenheit.append(round((9/5)*cel_value+32))\n",
    "    return farenheit\n",
    "\n",
    "farenheit1 = convert_farenheit(celsius)\n",
    "print(farenheit1)\n",
    "farenheit2 = list(map(lambda x: 69 if x == 21 else round(((9/5)*x)+32),celsius))\n",
    "print(farenheit2)"
   ]
  },
  {
   "cell_type": "code",
   "execution_count": 6,
   "metadata": {},
   "outputs": [
    {
     "data": {
      "text/plain": [
       "20"
      ]
     },
     "execution_count": 6,
     "metadata": {},
     "output_type": "execute_result"
    }
   ],
   "source": [
    "# stack\n",
    "a=[1,2,3,4,5]\n",
    "a.append(10)\n",
    "a.append(20)\n",
    "a.pop()"
   ]
  },
  {
   "cell_type": "code",
   "execution_count": 7,
   "metadata": {},
   "outputs": [
    {
     "data": {
      "text/plain": [
       "1"
      ]
     },
     "execution_count": 7,
     "metadata": {},
     "output_type": "execute_result"
    }
   ],
   "source": [
    "# Queue\n",
    "a=[1,2,3,4,5]\n",
    "a.append(10)\n",
    "a.append(20)\n",
    "a.pop(0)"
   ]
  },
  {
   "cell_type": "code",
   "execution_count": 8,
   "metadata": {},
   "outputs": [
    {
     "ename": "TypeError",
     "evalue": "'tuple' object does not support item assignment",
     "output_type": "error",
     "traceback": [
      "\u001b[1;31m---------------------------------------------------------------------------\u001b[0m",
      "\u001b[1;31mTypeError\u001b[0m                                 Traceback (most recent call last)",
      "Input \u001b[1;32mIn [8]\u001b[0m, in \u001b[0;36m<module>\u001b[1;34m\u001b[0m\n\u001b[0;32m      1\u001b[0m \u001b[38;5;66;03m# tuple\u001b[39;00m\n\u001b[0;32m      2\u001b[0m t\u001b[38;5;241m=\u001b[39m(\u001b[38;5;241m1\u001b[39m,\u001b[38;5;241m2\u001b[39m,\u001b[38;5;241m3\u001b[39m)\n\u001b[1;32m----> 4\u001b[0m t[\u001b[38;5;241m1\u001b[39m]\u001b[38;5;241m=\u001b[39m\u001b[38;5;241m5\u001b[39m\n\u001b[0;32m      5\u001b[0m t\u001b[38;5;241m=\u001b[39m(\u001b[38;5;241m1\u001b[39m, )\n",
      "\u001b[1;31mTypeError\u001b[0m: 'tuple' object does not support item assignment"
     ]
    }
   ],
   "source": [
    "# tuple\n",
    "t=(1,2,3)\n",
    "\n",
    "t[1]=5 #불가\n",
    "t=(1, )"
   ]
  },
  {
   "cell_type": "code",
   "execution_count": 9,
   "metadata": {},
   "outputs": [
    {
     "data": {
      "text/plain": [
       "{1, 2, 3}"
      ]
     },
     "execution_count": 9,
     "metadata": {},
     "output_type": "execute_result"
    }
   ],
   "source": [
    "# set\n",
    "s=set([1,2,3,1,2,3])\n",
    "s"
   ]
  },
  {
   "cell_type": "code",
   "execution_count": 10,
   "metadata": {},
   "outputs": [
    {
     "data": {
      "text/plain": [
       "82"
      ]
     },
     "execution_count": 10,
     "metadata": {},
     "output_type": "execute_result"
    }
   ],
   "source": [
    "# dictionary\n",
    "country={'usa':1, 'kor':82,'chn':86}\n",
    "country['kor']"
   ]
  },
  {
   "cell_type": "code",
   "execution_count": 13,
   "metadata": {},
   "outputs": [
    {
     "name": "stdout",
     "output_type": "stream",
     "text": [
      "mun:is:preetty\n"
     ]
    }
   ],
   "source": [
    "a=['mun','is','preetty']\n",
    "result=':'.join(a)\n",
    "print(result)"
   ]
  },
  {
   "cell_type": "code",
   "execution_count": 16,
   "metadata": {},
   "outputs": [
    {
     "name": "stdout",
     "output_type": "stream",
     "text": [
      "0 tic\n",
      "1 toc\n",
      "2 tac\n",
      "a1 b1\n",
      "a2 b2\n",
      "a3 b3\n"
     ]
    }
   ],
   "source": [
    "# enumerate & zip\n",
    "for i,v in enumerate(['tic','toc','tac']):\n",
    "    #list에 있는 index와 값을 unpacking\n",
    "    print(i,v)\n",
    "\n",
    "alist = ['a1','a2','a3']\n",
    "blist = ['b1','b2','b3']\n",
    "for a,b in zip(alist,blist):\n",
    "    #병렬적으로 값 추출\n",
    "    print(a,b)\n",
    "\n"
   ]
  },
  {
   "cell_type": "code",
   "execution_count": 20,
   "metadata": {},
   "outputs": [
    {
     "ename": "NameError",
     "evalue": "name 'x' is not defined",
     "output_type": "error",
     "traceback": [
      "\u001b[1;31m---------------------------------------------------------------------------\u001b[0m",
      "\u001b[1;31mNameError\u001b[0m                                 Traceback (most recent call last)",
      "Input \u001b[1;32mIn [20]\u001b[0m, in \u001b[0;36m<module>\u001b[1;34m\u001b[0m\n\u001b[0;32m      1\u001b[0m \u001b[38;5;66;03m# lambda & map\u001b[39;00m\n\u001b[1;32m----> 2\u001b[0m ex \u001b[38;5;241m=\u001b[39m \u001b[43mx\u001b[49m \u001b[38;5;241m*\u001b[39m \u001b[38;5;241m5\u001b[39m\n\u001b[0;32m      3\u001b[0m f \u001b[38;5;241m=\u001b[39m \u001b[38;5;28;01mlambda\u001b[39;00m x: x \u001b[38;5;241m*\u001b[39m\u001b[38;5;241m*\u001b[39m \u001b[38;5;241m2\u001b[39m\n\u001b[0;32m      4\u001b[0m \u001b[38;5;28mprint\u001b[39m(\u001b[38;5;28mmap\u001b[39m(f,ex))\n",
      "\u001b[1;31mNameError\u001b[0m: name 'x' is not defined"
     ]
    }
   ],
   "source": [
    "# lambda & map\n",
    "f = lambda x: x ** 2\n",
    "print(map(f,ex))\n",
    "\n",
    "for i in map(f,ex):\n",
    "    print(i)\n",
    "\n",
    "from functools import reduce\n",
    "print(reduce(lambda x,y:x+y, [1,2,3,4,5]))"
   ]
  },
  {
   "cell_type": "code",
   "execution_count": 22,
   "metadata": {},
   "outputs": [
    {
     "name": "stdout",
     "output_type": "stream",
     "text": [
      "42\n",
      "{'first': 3, 'sencond': {1, 2, 3}, 'third': 5}\n"
     ]
    }
   ],
   "source": [
    "def kwargs_test_3(one,two,*args,**kwargs):\n",
    "    print(one+two+sum(args))\n",
    "    print(kwargs)\n",
    "\n",
    "kwargs_test_3(3,4,5,6,7,8,9,first=3,sencond=s,third=5)"
   ]
  }
 ],
 "metadata": {
  "interpreter": {
   "hash": "16a6a006423b4e083c4a8ed8de9f32d97eb597814e4c55d308f78d34267cbb9b"
  },
  "kernelspec": {
   "display_name": "Python 3.10.1 64-bit",
   "language": "python",
   "name": "python3"
  },
  "language_info": {
   "codemirror_mode": {
    "name": "ipython",
    "version": 3
   },
   "file_extension": ".py",
   "mimetype": "text/x-python",
   "name": "python",
   "nbconvert_exporter": "python",
   "pygments_lexer": "ipython3",
   "version": "3.10.1"
  },
  "orig_nbformat": 4
 },
 "nbformat": 4,
 "nbformat_minor": 2
}
