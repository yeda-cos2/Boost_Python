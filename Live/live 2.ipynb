{
 "cells": [
  {
   "cell_type": "code",
   "execution_count": 3,
   "metadata": {},
   "outputs": [
    {
     "name": "stdout",
     "output_type": "stream",
     "text": [
      "10\n",
      "10\n",
      "10\n"
     ]
    }
   ],
   "source": [
    "# 일급 객체/함수\n",
    "def add_function(a,b):\n",
    "    return a+b\n",
    "\n",
    "# 1. 변수나 자료 구조에 담을 수 있어야 한다\n",
    "adder = add_function\n",
    "print(adder(5,5))\n",
    "\n",
    "calculator = {}\n",
    "calculator['adder']=add_function\n",
    "print(calculator['adder'](5,5))\n",
    "\n",
    "# 2. 파라미터로 전달할 수 있다\n",
    "def add_handler(f,a,b):\n",
    "    print(f(a,b))\n",
    "\n",
    "add_handler(add_function,5,5)\n",
    "\n",
    "# 3. 반환 값으로 사용할 수 있다\n",
    "def outer_function(a,b):\n",
    "    def inner_function():\n",
    "        print(a,b)\n",
    "    return inner_function"
   ]
  },
  {
   "cell_type": "code",
   "execution_count": 2,
   "metadata": {},
   "outputs": [
    {
     "name": "stdout",
     "output_type": "stream",
     "text": [
      "9 10 11 12 13\n"
     ]
    }
   ],
   "source": [
    "# closures\n",
    "\n",
    "def calc():\n",
    "    a=3\n",
    "    b=5\n",
    "    def mul_add(x):\n",
    "        return a+x+b\n",
    "    return mul_add\n",
    "\n",
    "c=calc()\n",
    "print(c(1),c(2),c(3),c(4),c(5))"
   ]
  },
  {
   "cell_type": "code",
   "execution_count": 1,
   "metadata": {},
   "outputs": [
    {
     "name": "stdout",
     "output_type": "stream",
     "text": [
      "--Coasting Study\n",
      "cs50\n",
      "--Coasting Study\n",
      "ai_basic\n"
     ]
    }
   ],
   "source": [
    "# decorator\n",
    "\n",
    "def course(func): #호출할 함수를 매개변수로 받음\n",
    "    def creator_wrapper(): #호출할 함수를 감싸는 함수\n",
    "        print('--Coasting Study') #creator 출력\n",
    "        func() #매개변수로 받은 함수 호출\n",
    "    return creator_wrapper\n",
    "\n",
    "@course\n",
    "def cs50():\n",
    "    print('cs50')\n",
    "\n",
    "@course\n",
    "def ai_basic():\n",
    "    print('ai_basic')\n",
    "\n",
    "cs50()\n",
    "ai_basic()"
   ]
  }
 ],
 "metadata": {
  "interpreter": {
   "hash": "16a6a006423b4e083c4a8ed8de9f32d97eb597814e4c55d308f78d34267cbb9b"
  },
  "kernelspec": {
   "display_name": "Python 3.10.1 64-bit",
   "language": "python",
   "name": "python3"
  },
  "language_info": {
   "codemirror_mode": {
    "name": "ipython",
    "version": 3
   },
   "file_extension": ".py",
   "mimetype": "text/x-python",
   "name": "python",
   "nbconvert_exporter": "python",
   "pygments_lexer": "ipython3",
   "version": "3.10.1"
  },
  "orig_nbformat": 4
 },
 "nbformat": 4,
 "nbformat_minor": 2
}
