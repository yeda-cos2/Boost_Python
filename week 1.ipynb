{
 "cells": [
  {
   "cell_type": "markdown",
   "metadata": {},
   "source": [
    "## Week 1\n",
    "---"
   ]
  },
  {
   "cell_type": "code",
   "execution_count": 5,
   "metadata": {},
   "outputs": [
    {
     "name": "stdout",
     "output_type": "stream",
     "text": [
      "[1, 5, 7, 15, 29]\n"
     ]
    }
   ],
   "source": [
    "# Q1.\n",
    "# num_list 가 홀수인 데이터만 출력하도록 하는 함수를 작성해보세요.\n",
    "\n",
    "num_list = [1, 5, 7, 15, 16, 22, 28, 29]\n",
    "\n",
    "def get_odd_num(num_list):\n",
    "    odd_num_list = []\n",
    "    for num in num_list:\n",
    "        if num % 2 != 0:\n",
    "            odd_num_list.append(num)\n",
    "    return odd_num_list \n",
    "\n",
    "print(get_odd_num(num_list))    "
   ]
  },
  {
   "cell_type": "code",
   "execution_count": 7,
   "metadata": {},
   "outputs": [
    {
     "name": "stdout",
     "output_type": "stream",
     "text": [
      "Where there is a will ther is a way\n"
     ]
    }
   ],
   "source": [
    "# 문자열을 입력 받았더니 단어 단위로 거꾸로 입력되었습니다. \n",
    "# 이를 다시 원래대로 출력하는 함수 를 작성해보세요.\n",
    "# string 문장을 받아 단어를 역순으로 출력하는 함수를 작성하세요.\n",
    "\n",
    "sentence=\"way a is ther will a is there Where\"\n",
    "\n",
    "def reverse_sentence(sentence):\n",
    "    y = ' '.join(reversed(sentence.split())) \n",
    "    # '구분자.join() 리스트 값과 값 사이 구분자 넣어서 문자열 합쳐줌\n",
    "    # split() 괄호 안에 아무 값도 넣지 않을 경우 공백을 기준으로 문자열 나눔\n",
    "    return y\n",
    "\n",
    "print(reverse_sentence(sentence))"
   ]
  },
  {
   "cell_type": "code",
   "execution_count": 10,
   "metadata": {},
   "outputs": [
    {
     "name": "stdout",
     "output_type": "stream",
     "text": [
      "1번, 평균:100.0 \n",
      "2번, 평균:92.5 \n",
      "3번, 평균:57.5 \n",
      "4번, 평균:77.5 \n",
      "5번, 평균:70.0 \n"
     ]
    }
   ],
   "source": [
    "# 점수가 튜플 형태로 저장되어 있고, 이를 포함한 리스트가 있습니다. \n",
    "# 이를 이용 해 각 학생별 평균 점수를 출력하는 함수를 제작하세요. \n",
    "# 리스트와 반복문을 사용해 데이터를 불러오세요\n",
    "\n",
    "score=[(100,100),(95,90),(55,60),(75,80),(70,70)]\n",
    "\n",
    "def get_avg(score):\n",
    "    for i, s in enumerate(score):\n",
    "        print(\"{}번, 평균:{} \".format((i+1),sum(s)/len(s)))\n",
    "get_avg(score)\n",
    "    \n"
   ]
  },
  {
   "cell_type": "code",
   "execution_count": 9,
   "metadata": {},
   "outputs": [],
   "source": [
    "# enumerate() \n",
    "# 순서가 있는 자료형(리스트, 튜플, 문자열)을 입력으로 받아 인덱스 값을 포함하는 객체를 돌려준다.\n",
    "# >>> for i, name in enumerate(['body', 'foo', 'bar']): \n",
    "# ...     print(i, name)\n",
    "# ...\n",
    "# 0 body\n",
    "# 1 foo\n",
    "# 2 bar"
   ]
  },
  {
   "cell_type": "code",
   "execution_count": 16,
   "metadata": {},
   "outputs": [
    {
     "name": "stdout",
     "output_type": "stream",
     "text": [
      "{'감': 35, '귤': 25, '배': 30, '사과': 35, '포도': 10}\n"
     ]
    }
   ],
   "source": [
    "# 두개의 납품처에서 각각 과일과 야채들이 납품되었습니다. \n",
    "# 이를 각각 물품의 갯수를 나타내는 2개의 딕셔너리로 정리했습니다. \n",
    "# 물품을 정리하기 위해서 2개의 딕셔너리 객체를 합쳐 출력하는 함수를 제작하세요.\n",
    "# 중복되는 물품은 합쳐서 표시하세요.\n",
    "# 각 딕셔너리 데이터의 데이터의 키값을 이용해 중복을 확인해보세요.\n",
    "\n",
    "from collections import Counter\n",
    "dict_first = {'사과' : 30, '배' : 15, '감' : 10, '포도' : 10}\n",
    "dict_second = {'사과' : 5, '감' : 25, '배' : 15, '귤' : 25}\n",
    "\n",
    "def merge_dict(dict_first, dict_second):\n",
    "    dict_merge = dict(Counter(dict_first)+Counter(dict_second))\n",
    "    result = dict(sorted(dict_merge.items()))\n",
    "    # 딕셔너리 정렬, 역순은 sorted(dict.items(), reverse=True)\n",
    "    return result\n",
    "\n",
    "print(merge_dict(dict_first, dict_second))\n",
    "    \n"
   ]
  },
  {
   "cell_type": "code",
   "execution_count": 14,
   "metadata": {},
   "outputs": [
    {
     "name": "stdout",
     "output_type": "stream",
     "text": [
      "['cat', '', 'dog', '', 'cow']\n"
     ]
    }
   ],
   "source": [
    "# 단어들을 입력받았는데, 자꾸만 숫자들이 섞여들어가는 문제가 있습니다. \n",
    "# 이를 처리하기 위해서 함수에 string을 전달 받은 뒤, \n",
    "# string 안에서의 숫자를 제거한 후 string만 남은 리스트를 출력하세요.\n",
    "\n",
    "inputs = \"cat32dog16cow5\"\n",
    "\n",
    "def find_string(inputs):\n",
    "    list=[]\n",
    "    start=0\n",
    "    end=0\n",
    "    for i in range(len(inputs)):\n",
    "        if(inputs[i].isdigit()):\n",
    "            if(inputs[start:end+1] != ' '):\n",
    "                list.append(inputs[start:end+1])\n",
    "            start = i+1\n",
    "        else:\n",
    "            end = i\n",
    "    return list\n",
    "\n",
    "string_list = find_string(inputs)\n",
    "print(string_list)"
   ]
  }
 ],
 "metadata": {
  "interpreter": {
   "hash": "16a6a006423b4e083c4a8ed8de9f32d97eb597814e4c55d308f78d34267cbb9b"
  },
  "kernelspec": {
   "display_name": "Python 3.10.1 64-bit",
   "language": "python",
   "name": "python3"
  },
  "language_info": {
   "codemirror_mode": {
    "name": "ipython",
    "version": 3
   },
   "file_extension": ".py",
   "mimetype": "text/x-python",
   "name": "python",
   "nbconvert_exporter": "python",
   "pygments_lexer": "ipython3",
   "version": "3.10.1"
  },
  "orig_nbformat": 4
 },
 "nbformat": 4,
 "nbformat_minor": 2
}
